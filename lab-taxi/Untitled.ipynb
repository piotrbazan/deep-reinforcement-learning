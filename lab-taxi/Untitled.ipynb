{
 "cells": [
  {
   "cell_type": "code",
   "execution_count": 1,
   "id": "1c1ea7de-a988-46c0-92d8-0e342851b8c4",
   "metadata": {},
   "outputs": [],
   "source": [
    "from agent import *\n",
    "from monitor import interact\n",
    "import gym\n",
    "import numpy as np"
   ]
  },
  {
   "cell_type": "code",
   "execution_count": 3,
   "id": "f5edb11d-05ed-46ec-ba01-6bb069366fcf",
   "metadata": {},
   "outputs": [],
   "source": [
    "env = gym.make('Taxi-v3')"
   ]
  },
  {
   "cell_type": "code",
   "execution_count": 21,
   "id": "571be00e-60a7-48ba-892b-c58f21146f76",
   "metadata": {},
   "outputs": [
    {
     "name": "stdout",
     "output_type": "stream",
     "text": [
      "Episode 5000/5000 || Best average reward 8.4362\n",
      "\n"
     ]
    }
   ],
   "source": [
    "agent = SarsaAgent(env.action_space.n, alpha=.2, gamma=.9)\n",
    "avg_rewards, best_avg_reward = interact(env, agent, num_episodes=5000)"
   ]
  },
  {
   "cell_type": "code",
   "execution_count": 14,
   "id": "459771e7-1f7a-4947-bef8-6a9793f5731a",
   "metadata": {},
   "outputs": [
    {
     "name": "stdout",
     "output_type": "stream",
     "text": [
      "Episode 5000/5000 || Best average reward 8.6231\n",
      "\n"
     ]
    }
   ],
   "source": [
    "agent = SarsaMax(env.action_space.n, alpha=.5, gamma=.9)\n",
    "avg_rewards, best_avg_reward = interact(env, agent, num_episodes=5000)"
   ]
  },
  {
   "cell_type": "code",
   "execution_count": 20,
   "id": "a0361112-ca71-47fa-b9f1-dca8ffcc26de",
   "metadata": {},
   "outputs": [
    {
     "name": "stdout",
     "output_type": "stream",
     "text": [
      "Episode 5000/5000 || Best average reward 8.5475\n",
      "\n"
     ]
    }
   ],
   "source": [
    "agent = SarsaExpected(env.action_space.n, alpha=.1, gamma=.9)\n",
    "avg_rewards, best_avg_reward = interact(env, agent, num_episodes=5000)"
   ]
  },
  {
   "cell_type": "code",
   "execution_count": null,
   "id": "6853cf7f-185d-44ac-ae40-65f9fb1b46b2",
   "metadata": {},
   "outputs": [],
   "source": []
  }
 ],
 "metadata": {
  "kernelspec": {
   "display_name": "py3",
   "language": "python",
   "name": "py3"
  },
  "language_info": {
   "codemirror_mode": {
    "name": "ipython",
    "version": 3
   },
   "file_extension": ".py",
   "mimetype": "text/x-python",
   "name": "python",
   "nbconvert_exporter": "python",
   "pygments_lexer": "ipython3",
   "version": "3.8.5"
  }
 },
 "nbformat": 4,
 "nbformat_minor": 5
}
